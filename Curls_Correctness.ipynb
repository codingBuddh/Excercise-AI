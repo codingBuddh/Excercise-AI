{
 "cells": [
  {
   "cell_type": "markdown",
   "id": "2f5e613e-6262-468b-a18a-968c93d474d4",
   "metadata": {},
   "source": [
    "<img src=\"https://i.imgur.com/3j8BPdc.png\" style=\"height:300px\" >"
   ]
  },
  {
   "cell_type": "code",
   "execution_count": 9,
   "id": "8debbf46-f6d8-4f56-a68f-14dc322afb74",
   "metadata": {},
   "outputs": [],
   "source": [
    "#Ignoriung Warnings\n",
    "import sys\n",
    "\n",
    "if not sys.warnoptions:\n",
    "    import warnings\n",
    "    warnings.simplefilter(\"ignore\")"
   ]
  },
  {
   "cell_type": "code",
   "execution_count": 10,
   "id": "2940b2ea-e927-40ee-a67f-2a3ff3f31192",
   "metadata": {},
   "outputs": [
    {
     "name": "stderr",
     "output_type": "stream",
     "text": [
      "2024-08-06 16:56:06.293347: I tensorflow/core/platform/cpu_feature_guard.cc:210] This TensorFlow binary is optimized to use available CPU instructions in performance-critical operations.\n",
      "To enable the following instructions: AVX2 FMA, in other operations, rebuild TensorFlow with the appropriate compiler flags.\n"
     ]
    }
   ],
   "source": [
    "#importing libs\n",
    "import cv2\n",
    "import mediapipe as mp\n",
    "import numpy as np\n",
    "mp_drawing = mp.solutions.drawing_utils\n",
    "mp_pose = mp.solutions.pose"
   ]
  },
  {
   "cell_type": "code",
   "execution_count": 11,
   "id": "18d84e87-f0f5-439d-af84-7a729aad9f08",
   "metadata": {},
   "outputs": [],
   "source": [
    "def calculate_angle(a,b,c):\n",
    "    a = np.array(a) # First\n",
    "    b = np.array(b) # Mid\n",
    "    c = np.array(c) # End\n",
    "    \n",
    "    radians = np.arctan2(c[1]-b[1], c[0]-b[0]) - np.arctan2(a[1]-b[1], a[0]-b[0])\n",
    "    angle = np.abs(radians*180.0/np.pi)\n",
    "    \n",
    "    if angle >180.0:\n",
    "        angle = 360-angle\n",
    "    return angle \n",
    "    \n",
    "def calculate_angle_with_vertical(a, b):\n",
    "    a = np.array(a)  # First point\n",
    "    b = np.array(b)  # Mid point (vertex)\n",
    "\n",
    "    # Calculate the vector from b to a\n",
    "    vector = a - b\n",
    "\n",
    "    # Angle of the vector with respect to the vertical axis (y-axis)\n",
    "    # Vertical axis is along the y-axis, so we use (0, 1) as the vertical reference vector\n",
    "    vertical_reference = np.array([0, 1])\n",
    "    \n",
    "    # Calculate the dot product and magnitudes of the vectors\n",
    "    dot_product = np.dot(vector, vertical_reference)\n",
    "    magnitude_vector = np.linalg.norm(vector)\n",
    "    magnitude_vertical = np.linalg.norm(vertical_reference)\n",
    "\n",
    "    # Calculate the cosine of the angle\n",
    "    cos_angle = dot_product / (magnitude_vector * magnitude_vertical)\n",
    "\n",
    "    # Clamp the value to the range [-1, 1] to avoid numerical issues with arccos\n",
    "    cos_angle = np.clip(cos_angle, -1.0, 1.0)\n",
    "\n",
    "    # Calculate the angle in degrees\n",
    "    angle = np.arccos(cos_angle) * (180.0 / np.pi)\n",
    "    return angle"
   ]
  },
  {
   "cell_type": "code",
   "execution_count": null,
   "id": "f9718d80-1387-46cb-a77b-d611ea5576f8",
   "metadata": {},
   "outputs": [],
   "source": [
    "posture=None\n",
    "cap = cv2.VideoCapture(0)\n",
    "\n",
    "# Curl counter variables\n",
    "counter = 0 \n",
    "stage = None\n",
    "message=\"Good Posture\"\n",
    "\n",
    "\n",
    "## Setup mediapipe instance\n",
    "with mp_pose.Pose(min_detection_confidence=0.5, min_tracking_confidence=0.5) as pose:\n",
    "    while cap.isOpened():\n",
    "        ret, frame = cap.read()\n",
    "        \n",
    "        # Recolor image to RGB\n",
    "        image = cv2.cvtColor(frame, cv2.COLOR_BGR2RGB)\n",
    "        image.flags.writeable = False\n",
    "      \n",
    "        # Make detection\n",
    "        results = pose.process(image)\n",
    "    \n",
    "        # Recolor back to BGR\n",
    "        image.flags.writeable = True\n",
    "        image = cv2.cvtColor(image, cv2.COLOR_RGB2BGR)\n",
    "        \n",
    "        # Extract landmarks\n",
    "        try:\n",
    "            landmarks = results.pose_landmarks.landmark\n",
    "            \n",
    "            # Get coordinates\n",
    "            shoulder = [landmarks[mp_pose.PoseLandmark.LEFT_SHOULDER.value].x,landmarks[mp_pose.PoseLandmark.LEFT_SHOULDER.value].y]\n",
    "            elbow = [landmarks[mp_pose.PoseLandmark.LEFT_ELBOW.value].x,landmarks[mp_pose.PoseLandmark.LEFT_ELBOW.value].y]\n",
    "            wrist = [landmarks[mp_pose.PoseLandmark.LEFT_WRIST.value].x,landmarks[mp_pose.PoseLandmark.LEFT_WRIST.value].y]\n",
    "            hip = [landmarks[mp_pose.PoseLandmark.LEFT_HIP.value].x,landmarks[mp_pose.PoseLandmark.LEFT_HIP.value].y]\n",
    "            \n",
    "            # Calculate angle\n",
    "            angle = calculate_angle(shoulder, elbow, wrist)\n",
    "            v_angle_elbow=calculate_angle_with_vertical(elbow,shoulder)\n",
    "            v_angle_back=calculate_angle_with_vertical(shoulder,hip)\n",
    "            \n",
    "            # Visualize angle\n",
    "            cv2.putText(image, str(v_angle), \n",
    "                           tuple(np.multiply(elbow, [640, 480]).astype(int)), \n",
    "                           cv2.FONT_HERSHEY_SIMPLEX, 0.5, (255, 255, 255), 2, cv2.LINE_AA\n",
    "                                )\n",
    "            \n",
    "\n",
    "\n",
    "\n",
    "            if angle > 160:\n",
    "                stage = \"down\"\n",
    "            if angle < 30 and stage =='down':\n",
    "                stage=\"up\"\n",
    "                counter +=1\n",
    "                print(counter)\n",
    "\n",
    "            #posture\n",
    "            # if (v_angle_elbow>8 or v_angle_hip<170):\n",
    "            #     if v_angle_back<175 and v_angle_elbow>8:\n",
    "            #         message=\"straight back and elbows.\"\n",
    "            #     elif v_angle_back<170:\n",
    "            #         message=\"straight back.!!\"\n",
    "            #     elif v_angle_elbow>8:\n",
    "            #         message=\"straight elbow!!\"\n",
    "\n",
    "\n",
    "\n",
    "                \n",
    "                \n",
    "            # else:\n",
    "            #     message=\"Good Posture\"\n",
    "            #     # Curl counter logic\n",
    "            #     if angle > 160:\n",
    "            #         stage = \"down\"\n",
    "            #     if angle < 30 and stage =='down':\n",
    "            #         stage=\"up\"\n",
    "            #         counter +=1\n",
    "            #         print(counter)\n",
    "                    \n",
    "                \n",
    "                \n",
    "                \n",
    "                \n",
    "                \n",
    "            \n",
    "                \n",
    "                       \n",
    "        except:\n",
    "            pass\n",
    "        \n",
    "        # Render curl counter\n",
    "        # Setup status box\n",
    "        cv2.rectangle(image, (0,0), (1000,73), (245,117,16), -1)\n",
    "        \n",
    "        # Rep data\n",
    "        cv2.putText(image, 'REPS', (15,12), \n",
    "                    cv2.FONT_HERSHEY_SIMPLEX, 0.5, (0,0,0), 1, cv2.LINE_AA)\n",
    "        cv2.putText(image, str(counter), \n",
    "                    (10,60), \n",
    "                    cv2.FONT_HERSHEY_SIMPLEX, 2, (255,255,255), 2, cv2.LINE_AA)\n",
    "        \n",
    "        # Stage data\n",
    "        # cv2.putText(image, 'STAGE', (65,12), \n",
    "        #             cv2.FONT_HERSHEY_SIMPLEX, 0.5, (0,0,0), 1, cv2.LINE_AA)\n",
    "        # cv2.putText(image, message, \n",
    "        #             (1000,60), \n",
    "        #             cv2.FONT_HERSHEY_SIMPLEX, 2, (255,255,255), 2, cv2.LINE_AA)\n",
    "        \n",
    "        \n",
    "        # Render detections\n",
    "        mp_drawing.draw_landmarks(image, results.pose_landmarks, mp_pose.POSE_CONNECTIONS,\n",
    "                                mp_drawing.DrawingSpec(color=(245,117,66), thickness=2, circle_radius=2), \n",
    "                                mp_drawing.DrawingSpec(color=(245,66,230), thickness=2, circle_radius=2) \n",
    "                                 )               \n",
    "        \n",
    "        cv2.imshow('Mediapipe Feed', image)\n",
    "\n",
    "        if cv2.waitKey(10) & 0xFF == ord('q'):\n",
    "            break\n",
    "\n",
    "    cap.release()\n",
    "    cv2.destroyAllWindows()"
   ]
  },
  {
   "cell_type": "code",
   "execution_count": null,
   "id": "f3b35fde-2ed3-42cf-a210-ea77828cbc6b",
   "metadata": {},
   "outputs": [],
   "source": [
    "cap = cv2.VideoCapture(0)\n",
    "\n",
    "# Curl counter variables\n",
    "counter = 0 \n",
    "stage = None\n",
    "message=None\n",
    "\n",
    "# Setup mediapipe instance\n",
    "with mp_pose.Pose(min_detection_confidence=0.5, min_tracking_confidence=0.5) as pose:\n",
    "    while cap.isOpened():\n",
    "        ret, frame = cap.read()\n",
    "        if not ret:\n",
    "            break\n",
    "        \n",
    "        # Recolor image to RGB\n",
    "        image = cv2.cvtColor(frame, cv2.COLOR_BGR2RGB)\n",
    "        image.flags.writeable = False\n",
    "      \n",
    "        # Make detection\n",
    "        results = pose.process(image)\n",
    "    \n",
    "        # Recolor back to BGR\n",
    "        image.flags.writeable = True\n",
    "        image = cv2.cvtColor(image, cv2.COLOR_RGB2BGR)\n",
    "        \n",
    "        # Extract landmarks\n",
    "        try:\n",
    "            landmarks = results.pose_landmarks.landmark\n",
    "            \n",
    "            # Get coordinates\n",
    "            shoulder = [landmarks[mp_pose.PoseLandmark.LEFT_SHOULDER.value].x,\n",
    "                        landmarks[mp_pose.PoseLandmark.LEFT_SHOULDER.value].y]\n",
    "            elbow = [landmarks[mp_pose.PoseLandmark.LEFT_ELBOW.value].x,\n",
    "                     landmarks[mp_pose.PoseLandmark.LEFT_ELBOW.value].y]\n",
    "            wrist = [landmarks[mp_pose.PoseLandmark.LEFT_WRIST.value].x,\n",
    "                     landmarks[mp_pose.PoseLandmark.LEFT_WRIST.value].y]\n",
    "            hip = [landmarks[mp_pose.PoseLandmark.LEFT_HIP.value].x,\n",
    "                   landmarks[mp_pose.PoseLandmark.LEFT_HIP.value].y]\n",
    "                   \n",
    "            # Calculate angles\n",
    "            angle = calculate_angle(shoulder, elbow, wrist)\n",
    "            v_angle_elbow = calculate_angle_with_vertical(elbow, shoulder)\n",
    "            v_angle_back = calculate_angle_with_vertical(shoulder, hip)\n",
    "            \n",
    "            # Visualize angle\n",
    "            cv2.putText(image, str(v_angle_elbow), \n",
    "                        tuple(np.multiply(elbow, [640, 480]).astype(int)), \n",
    "                        cv2.FONT_HERSHEY_SIMPLEX, 0.5, (255, 255, 255), 2, cv2.LINE_AA)\n",
    "            \n",
    "            # Curl counter logic\n",
    "            if angle > 160 and v_angle_elbow < 15 and v_angle_back > 173:\n",
    "                stage = \"down\"\n",
    "                message = 'Good'\n",
    "            if angle < 30 and stage == 'down' and v_angle_elbow < 15 and v_angle_back > 173:\n",
    "                stage = \"up\"\n",
    "                message = \"Good\"\n",
    "                counter += 1\n",
    "                print(counter)\n",
    "\n",
    "            if v_angle_elbow > 15 or v_angle_back < 173:\n",
    "                if v_angle_elbow > 15:\n",
    "                    message = 'Keep your hands aligned'\n",
    "                    \n",
    "                    # Draw circles around the left elbow\n",
    "                    left_elbow = landmarks[mp_pose.PoseLandmark.LEFT_ELBOW.value]\n",
    "                    right_elbow = landmarks[mp_pose.PoseLandmark.RIGHT_ELBOW.value]\n",
    "                    cv2.circle(image, (int(left_elbow.x * frame.shape[1]), int(left_elbow.y * frame.shape[0])), 15, (0, 0, 255), -1)                    \n",
    "                    cv2.circle(image, (int(right_elbow.x * frame.shape[1]), int(right_elbow.y * frame.shape[0])), 15, (0, 0, 255), -1)\n",
    "                else:\n",
    "                    message = \"Keep your back straight\"\n",
    "                    left_hip = landmarks[mp_pose.PoseLandmark.LEFT_HIP.value]\n",
    "                    right_hip = landmarks[mp_pose.PoseLandmark.RIGHT_HIP.value]\n",
    "                    cv2.circle(image, (int(left_hip.x * frame.shape[1]), int(left_hip.y * frame.shape[0])), 15, (0, 0, 255), -1)                    \n",
    "                    cv2.circle(image, (int(right_hip.x * frame.shape[1]), int(right_hip.y * frame.shape[0])), 15, (0, 0, 255), -1)\n",
    "                \n",
    "        except Exception as e:\n",
    "            print(e)\n",
    "            pass\n",
    "        \n",
    "        # Render curl counter\n",
    "        # Setup status box\n",
    "        cv2.rectangle(image, (0, 0), (225, 73), (245, 117, 16), -1)\n",
    "        \n",
    "        # Rep data\n",
    "        cv2.putText(image, message, (15, 12), \n",
    "                    cv2.FONT_HERSHEY_SIMPLEX, 0.5, (0, 0, 0), 1, cv2.LINE_AA)\n",
    "        cv2.putText(image, str(counter), \n",
    "                    (100, 60), \n",
    "                    cv2.FONT_HERSHEY_SIMPLEX, 2, (255, 255, 255), 2, cv2.LINE_AA)\n",
    "        \n",
    "        # Render detections\n",
    "        mp_drawing.draw_landmarks(image, results.pose_landmarks, mp_pose.POSE_CONNECTIONS,\n",
    "                                  mp_drawing.DrawingSpec(color=(245, 117, 66), thickness=2, circle_radius=2), \n",
    "                                  mp_drawing.DrawingSpec(color=(245, 66, 230), thickness=2, circle_radius=2))\n",
    "        \n",
    "        cv2.imshow('Mediapipe Feed', image)\n",
    "\n",
    "        if cv2.waitKey(1) & 0xFF == ord('q'):\n",
    "            break\n",
    "\n",
    "    cap.release()\n",
    "    cv2.destroyAllWindows()"
   ]
  },
  {
   "cell_type": "markdown",
   "id": "a0de3a01-0599-4f7c-a78d-0bb4ea1c8fee",
   "metadata": {},
   "source": [
    "### Transscript generation"
   ]
  },
  {
   "cell_type": "code",
   "execution_count": 13,
   "id": "d914e534-6c0f-4e99-a91a-c82ed6fb12e4",
   "metadata": {},
   "outputs": [],
   "source": [
    "import time\n",
    "\n",
    "# Video capture\n",
    "cap = cv2.VideoCapture(\"right.mp4\")\n",
    "\n",
    "# Curl counter variables\n",
    "counter = 0 \n",
    "stage = None\n",
    "message = None\n",
    "\n",
    "# Initialize a list to store the transcript data\n",
    "transcript = []\n",
    "\n",
    "# Setup mediapipe instance\n",
    "with mp_pose.Pose(min_detection_confidence=0.5, min_tracking_confidence=0.5) as pose:\n",
    "    start_time = time.time()\n",
    "    \n",
    "    while cap.isOpened():\n",
    "        ret, frame = cap.read()\n",
    "        if not ret:\n",
    "            break\n",
    "        \n",
    "        # Recolor image to RGB\n",
    "        image = cv2.cvtColor(frame, cv2.COLOR_BGR2RGB)\n",
    "        image.flags.writeable = False\n",
    "      \n",
    "        # Make detection\n",
    "        results = pose.process(image)\n",
    "    \n",
    "        # Recolor back to BGR\n",
    "        image.flags.writeable = True\n",
    "        image = cv2.cvtColor(image, cv2.COLOR_RGB2BGR)\n",
    "        \n",
    "        # Extract landmarks\n",
    "        try:\n",
    "            landmarks = results.pose_landmarks.landmark\n",
    "            \n",
    "            # Get coordinates\n",
    "            shoulder = [landmarks[mp_pose.PoseLandmark.LEFT_SHOULDER.value].x,\n",
    "                        landmarks[mp_pose.PoseLandmark.LEFT_SHOULDER.value].y]\n",
    "            elbow = [landmarks[mp_pose.PoseLandmark.LEFT_ELBOW.value].x,\n",
    "                     landmarks[mp_pose.PoseLandmark.LEFT_ELBOW.value].y]\n",
    "            wrist = [landmarks[mp_pose.PoseLandmark.LEFT_WRIST.value].x,\n",
    "                     landmarks[mp_pose.PoseLandmark.LEFT_WRIST.value].y]\n",
    "            hip = [landmarks[mp_pose.PoseLandmark.LEFT_HIP.value].x,\n",
    "                   landmarks[mp_pose.PoseLandmark.LEFT_HIP.value].y]\n",
    "                   \n",
    "            # Calculate angles\n",
    "            angle = calculate_angle(shoulder, elbow, wrist)\n",
    "            v_angle_elbow = calculate_angle_with_vertical(elbow, shoulder)\n",
    "            v_angle_back = calculate_angle_with_vertical(shoulder, hip)\n",
    "            \n",
    "            # Visualize angle\n",
    "            cv2.putText(image, str(v_angle_elbow), \n",
    "                        tuple(np.multiply(elbow, [640, 480]).astype(int)), \n",
    "                        cv2.FONT_HERSHEY_SIMPLEX, 0.5, (255, 255, 255), 2, cv2.LINE_AA)\n",
    "            \n",
    "            # Curl counter logic\n",
    "            if angle > 160 and v_angle_elbow < 15 and v_angle_back > 173:\n",
    "                stage = \"down\"\n",
    "                message = 'Good'\n",
    "            if angle < 30 and stage == 'down' and v_angle_elbow < 15 and v_angle_back > 173:\n",
    "                stage = \"up\"\n",
    "                message = \"Good\"\n",
    "                counter += 1\n",
    "                print(counter)\n",
    "                # Log the time and rep count\n",
    "                current_time = time.time() - start_time\n",
    "                transcript.append(f\"Time: {current_time:.2f} sec, Rep: {counter}\")\n",
    "                message += f\" | Time: {current_time:.2f} sec\"\n",
    "            \n",
    "            if v_angle_elbow > 15 or v_angle_back < 173:\n",
    "                if v_angle_elbow > 15:\n",
    "                    message = 'Keep your hands aligned'\n",
    "                    \n",
    "                    # Draw circles around the left elbow\n",
    "                    left_elbow = landmarks[mp_pose.PoseLandmark.LEFT_ELBOW.value]\n",
    "                    cv2.circle(image, (int(left_elbow.x * frame.shape[1]), int(left_elbow.y * frame.shape[0])), 15, (0, 0, 255), -1)\n",
    "                    \n",
    "                    # Optionally, if you want to highlight the right elbow as well:\n",
    "                    right_elbow = landmarks[mp_pose.PoseLandmark.RIGHT_ELBOW.value]\n",
    "                    cv2.circle(image, (int(right_elbow.x * frame.shape[1]), int(right_elbow.y * frame.shape[0])), 15, (0, 0, 255), -1)\n",
    "                else:\n",
    "                    message = \"Keep your back straight\"\n",
    "                \n",
    "        except Exception as e:\n",
    "            print(e)\n",
    "            pass\n",
    "        \n",
    "        # Render curl counter\n",
    "        # Setup status box\n",
    "        cv2.rectangle(image, (0, 0), (225, 73), (245, 117, 16), -1)\n",
    "        \n",
    "        # Rep data\n",
    "        cv2.putText(image, message, (15, 12), \n",
    "                    cv2.FONT_HERSHEY_SIMPLEX, 0.5, (0, 0, 0), 1, cv2.LINE_AA)\n",
    "        cv2.putText(image, str(counter), \n",
    "                    (100, 60), \n",
    "                    cv2.FONT_HERSHEY_SIMPLEX, 2, (255, 255, 255), 2, cv2.LINE_AA)\n",
    "        \n",
    "        # Render detections\n",
    "        mp_drawing.draw_landmarks(image, results.pose_landmarks, mp_pose.POSE_CONNECTIONS,\n",
    "                                  mp_drawing.DrawingSpec(color=(245, 117, 66), thickness=2, circle_radius=2), \n",
    "                                  mp_drawing.DrawingSpec(color=(245, 66, 230), thickness=2, circle_radius=2))\n",
    "        \n",
    "        cv2.imshow('Mediapipe Feed', image)\n",
    "\n",
    "        if cv2.waitKey(1) & 0xFF == ord('q'):\n",
    "            break\n",
    "\n",
    "    cap.release()\n",
    "    cv2.destroyAllWindows()\n",
    "\n",
    "    # Write the transcript to a file\n",
    "    with open('exercise_transcript.txt', 'w') as f:\n",
    "        for entry in transcript:\n",
    "            f.write(entry + '\\n')\n"
   ]
  },
  {
   "cell_type": "code",
   "execution_count": null,
   "id": "cec14db5-9a03-4173-9aa1-b63464b1a08c",
   "metadata": {
    "editable": true,
    "slideshow": {
     "slide_type": ""
    },
    "tags": []
   },
   "outputs": [],
   "source": [
    "transcript"
   ]
  },
  {
   "cell_type": "markdown",
   "id": "721e2a08-4f1e-4a08-b506-e105967b6c00",
   "metadata": {},
   "source": [
    "### Using movieyou.editor "
   ]
  },
  {
   "cell_type": "code",
   "execution_count": null,
   "id": "88f2ad0b-c869-4c1f-abd7-0dc53b37b1ac",
   "metadata": {
    "scrolled": true
   },
   "outputs": [],
   "source": [
    "!pip install moviepy"
   ]
  },
  {
   "cell_type": "code",
   "execution_count": null,
   "id": "945681ff-2c62-4a07-a278-5b84adaa1f59",
   "metadata": {},
   "outputs": [],
   "source": [
    "pip install ez_setup"
   ]
  },
  {
   "cell_type": "code",
   "execution_count": 1,
   "id": "44aa39dc-e597-4dbc-a4da-47b743583bd7",
   "metadata": {},
   "outputs": [
    {
     "data": {
      "text/plain": [
       "<moviepy.video.compositing.CompositeVideoClip.CompositeVideoClip at 0x10aef50d0>"
      ]
     },
     "execution_count": 1,
     "metadata": {},
     "output_type": "execute_result"
    }
   ],
   "source": [
    "from moviepy.editor import *\n",
    "\n",
    "video = VideoFileClip(\"right.mp4\")\n",
    "\n",
    "# Make the text. Many more options are available.\n",
    "txt_clip = ( TextClip(\"My Holidays 2013\",fontsize=70,color='white')\n",
    "             .set_position('center')\n",
    "             .set_duration(10) )\n",
    "\n",
    "result = CompositeVideoClip([video, txt_clip]) # Overlay text on video\n",
    "# result.write_videofile(\"myHolidays_edited.webm\",fps=25) # Many options...\n",
    "result"
   ]
  },
  {
   "cell_type": "code",
   "execution_count": 14,
   "id": "b3a04efd-776e-47c7-96bc-b067142f47bb",
   "metadata": {},
   "outputs": [
    {
     "name": "stdout",
     "output_type": "stream",
     "text": [
      "Moviepy - Building video myHolidays_edited.webm.\n",
      "MoviePy - Writing audio in myHolidays_editedTEMP_MPY_wvf_snd.ogg\n"
     ]
    },
    {
     "name": "stderr",
     "output_type": "stream",
     "text": [
      "                                                                                \r"
     ]
    },
    {
     "name": "stdout",
     "output_type": "stream",
     "text": [
      "MoviePy - Done.\n",
      "Moviepy - Writing video myHolidays_edited.webm\n",
      "\n"
     ]
    },
    {
     "name": "stderr",
     "output_type": "stream",
     "text": [
      "                                                                                \r"
     ]
    },
    {
     "name": "stdout",
     "output_type": "stream",
     "text": [
      "Moviepy - Done !\n",
      "Moviepy - video ready myHolidays_edited.webm\n"
     ]
    }
   ],
   "source": [
    "result.write_videofile(\"myHolidays_edited.webm\",fps=30) # Many options..."
   ]
  },
  {
   "cell_type": "code",
   "execution_count": 8,
   "id": "0e083178-a3c4-4566-a233-b1a5a5b0673a",
   "metadata": {},
   "outputs": [
    {
     "data": {
      "text/html": [
       "\n",
       "    <video alt=\"test\" controls style=\"width:400px;\">\n",
       "        <source src=\"myHolidays_edited.webm\" type=\"video/mp4\" >\n",
       "    </video>\n"
      ],
      "text/plain": [
       "<IPython.core.display.HTML object>"
      ]
     },
     "execution_count": 8,
     "metadata": {},
     "output_type": "execute_result"
    }
   ],
   "source": [
    "from IPython.display import HTML\n",
    "\n",
    "HTML(\"\"\"\n",
    "    <video alt=\"test\" controls style=\"width:400px;\">\n",
    "        <source src=\"myHolidays_edited.webm\" type=\"video/mp4\" >\n",
    "    </video>\n",
    "\"\"\")"
   ]
  },
  {
   "cell_type": "code",
   "execution_count": null,
   "id": "b27e664f-a2dc-4074-8660-3ac2bff17cd5",
   "metadata": {},
   "outputs": [],
   "source": [
    "import pygame"
   ]
  },
  {
   "cell_type": "code",
   "execution_count": null,
   "id": "e17dc1c2-a4a3-4ee3-a4c0-ef125a252bfc",
   "metadata": {},
   "outputs": [],
   "source": [
    "!pip install pygame"
   ]
  },
  {
   "cell_type": "code",
   "execution_count": null,
   "id": "e4d53c89-9248-45ee-a90d-e3e5ab1b6988",
   "metadata": {},
   "outputs": [],
   "source": [
    "pip install moviepy"
   ]
  },
  {
   "cell_type": "code",
   "execution_count": null,
   "id": "cc671ee0-3d0c-4824-948f-6b03c5ca3d99",
   "metadata": {},
   "outputs": [],
   "source": [
    "!brew install imagemagick\n"
   ]
  },
  {
   "cell_type": "code",
   "execution_count": null,
   "id": "fd606192-5304-4e3c-8bfd-133a6ef3f553",
   "metadata": {},
   "outputs": [],
   "source": [
    "!pip install pygame"
   ]
  }
 ],
 "metadata": {
  "kernelspec": {
   "display_name": "Python 3 (ipykernel)",
   "language": "python",
   "name": "python3"
  },
  "language_info": {
   "codemirror_mode": {
    "name": "ipython",
    "version": 3
   },
   "file_extension": ".py",
   "mimetype": "text/x-python",
   "name": "python",
   "nbconvert_exporter": "python",
   "pygments_lexer": "ipython3",
   "version": "3.11.7"
  }
 },
 "nbformat": 4,
 "nbformat_minor": 5
}
