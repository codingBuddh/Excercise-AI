{
 "cells": [
  {
   "cell_type": "code",
   "execution_count": 1,
   "id": "161ce2ab-6dd4-40ff-9246-4281686090ec",
   "metadata": {},
   "outputs": [
    {
     "name": "stdout",
     "output_type": "stream",
     "text": [
      "HEY\n"
     ]
    }
   ],
   "source": [
    "print(\"HEY\")"
   ]
  },
  {
   "cell_type": "code",
   "execution_count": 1,
   "id": "6da19afa-148f-4acc-82e5-fded68572755",
   "metadata": {},
   "outputs": [
    {
     "name": "stderr",
     "output_type": "stream",
     "text": [
      "2024-08-02 12:51:38.088627: I tensorflow/core/platform/cpu_feature_guard.cc:210] This TensorFlow binary is optimized to use available CPU instructions in performance-critical operations.\n",
      "To enable the following instructions: AVX2 FMA, in other operations, rebuild TensorFlow with the appropriate compiler flags.\n",
      "INFO: Created TensorFlow Lite XNNPACK delegate for CPU.\n"
     ]
    },
    {
     "name": "stdout",
     "output_type": "stream",
     "text": [
      "Error: Could not open video writer with codec 'mp4v'.\n",
      "Error: Could not open video writer with codec 'XVID'.\n",
      "VideoWriter opened successfully with codec 'MJPG'.\n",
      "Processed 100 frames.\n",
      "Processed 200 frames.\n",
      "Processed 300 frames.\n",
      "Processed 400 frames.\n",
      "Processing complete. Video saved as 'output_video_with_landmarks.mp4'\n"
     ]
    },
    {
     "name": "stderr",
     "output_type": "stream",
     "text": [
      "2024-08-02 12:52:00.332 python[44962:1450142] WARNING: -finishWriting should not be called on the main thread.\n"
     ]
    }
   ],
   "source": [
    "import cv2\n",
    "import mediapipe as mp\n",
    "import os\n",
    "\n",
    "# Initialize MediaPipe Pose\n",
    "mp_pose = mp.solutions.pose\n",
    "pose = mp_pose.Pose()\n",
    "mp_drawing = mp.solutions.drawing_utils\n",
    "\n",
    "# Paths\n",
    "input_video_path = 'right.mp4'\n",
    "output_video_path = 'output_video_with_landmarks.mp4'\n",
    "\n",
    "# Check if input file exists\n",
    "if not os.path.isfile(input_video_path):\n",
    "    print(f\"Error: Input video file '{input_video_path}' not found.\")\n",
    "    exit()\n",
    "\n",
    "cap = cv2.VideoCapture(input_video_path)\n",
    "\n",
    "# Check if video opened successfully\n",
    "if not cap.isOpened():\n",
    "    print(\"Error: Could not open video.\")\n",
    "    exit()\n",
    "\n",
    "fps = int(cap.get(cv2.CAP_PROP_FPS))\n",
    "width = int(cap.get(cv2.CAP_PROP_FRAME_WIDTH))\n",
    "height = int(cap.get(cv2.CAP_PROP_FRAME_HEIGHT))\n",
    "\n",
    "# List of codecs to try\n",
    "codecs = ['mp4v', 'XVID', 'MJPG', 'H264']\n",
    "\n",
    "out = None\n",
    "for codec in codecs:\n",
    "    fourcc = cv2.VideoWriter_fourcc(*codec)\n",
    "    out = cv2.VideoWriter(output_video_path, fourcc, fps, (width, height))\n",
    "    if out.isOpened():\n",
    "        print(f\"VideoWriter opened successfully with codec '{codec}'.\")\n",
    "        break\n",
    "    else:\n",
    "        print(f\"Error: Could not open video writer with codec '{codec}'.\")\n",
    "\n",
    "# Exit if no codec worked\n",
    "if not out or not out.isOpened():\n",
    "    print(f\"Error: Could not open video writer with any codec.\")\n",
    "    cap.release()\n",
    "    exit()\n",
    "\n",
    "frame_count = 0\n",
    "\n",
    "while cap.isOpened():\n",
    "    ret, frame = cap.read()\n",
    "    if not ret:\n",
    "        break\n",
    "    \n",
    "    # Convert the frame to RGB\n",
    "    rgb_frame = cv2.cvtColor(frame, cv2.COLOR_BGR2RGB)\n",
    "    \n",
    "    # Process the frame and get the pose landmarks\n",
    "    result = pose.process(rgb_frame)\n",
    "    \n",
    "    # Draw the landmarks on the frame\n",
    "    if result.pose_landmarks:\n",
    "        mp_drawing.draw_landmarks(frame, result.pose_landmarks, mp_pose.POSE_CONNECTIONS)\n",
    "    \n",
    "    # Write the frame with landmarks to the output video\n",
    "    out.write(frame)\n",
    "\n",
    "    frame_count += 1\n",
    "    if frame_count % 100 == 0:\n",
    "        print(f\"Processed {frame_count} frames.\")\n",
    "\n",
    "cap.release()\n",
    "out.release()\n",
    "cv2.destroyAllWindows()\n",
    "\n",
    "# Check if the output file was created\n",
    "if os.path.isfile(output_video_path):\n",
    "    print(f\"Processing complete. Video saved as '{output_video_path}'\")\n",
    "else:\n",
    "    print(f\"Error: Output video file '{output_video_path}' not found.\")\n"
   ]
  },
  {
   "cell_type": "code",
   "execution_count": 2,
   "id": "dd98e46b-0c67-4aed-b055-56a65629b1c3",
   "metadata": {},
   "outputs": [],
   "source": [
    "fps = int(cap.get(cv2.CAP_PROP_FPS))"
   ]
  },
  {
   "cell_type": "code",
   "execution_count": 3,
   "id": "313e2c0d-b819-49ed-9867-18bfadabf7f5",
   "metadata": {},
   "outputs": [
    {
     "data": {
      "text/plain": [
       "0"
      ]
     },
     "execution_count": 3,
     "metadata": {},
     "output_type": "execute_result"
    }
   ],
   "source": []
  },
  {
   "cell_type": "code",
   "execution_count": 4,
   "id": "09406e92-80fb-4f4a-b98f-893b210622b9",
   "metadata": {},
   "outputs": [
    {
     "name": "stdout",
     "output_type": "stream",
     "text": [
      "30\n",
      "Processed 100 frames.\n",
      "Processed 200 frames.\n",
      "Processed 300 frames.\n",
      "Processed 400 frames.\n",
      "Processing complete. Video saved as 'landmarks1.avi'\n"
     ]
    }
   ],
   "source": [
    "import cv2\n",
    "import mediapipe as mp\n",
    "import os\n",
    "\n",
    "# Initialize MediaPipe Pose\n",
    "mp_pose = mp.solutions.pose\n",
    "pose = mp_pose.Pose()\n",
    "mp_drawing = mp.solutions.drawing_utils\n",
    "\n",
    "# Paths\n",
    "input_video_path = 'right.mp4'\n",
    "output_video_path = 'landmarks1.avi'  # Changed to .avi for MJPG codec\n",
    "\n",
    "# Check if input file exists\n",
    "if not os.path.isfile(input_video_path):\n",
    "    print(f\"Error: Input video file '{input_video_path}' not found.\")\n",
    "    exit()\n",
    "\n",
    "cap = cv2.VideoCapture(input_video_path)\n",
    "\n",
    "# Check if video opened successfully\n",
    "if not cap.isOpened():\n",
    "    print(\"Error: Could not open video.\")\n",
    "    exit()\n",
    "\n",
    "fps = int(cap.get(cv2.CAP_PROP_FPS))\n",
    "width = int(cap.get(cv2.CAP_PROP_FRAME_WIDTH))\n",
    "height = int(cap.get(cv2.CAP_PROP_FRAME_HEIGHT))\n",
    "print(fps)\n",
    "# Use MJPG codec\n",
    "codec = 'MJPG'\n",
    "fourcc = cv2.VideoWriter_fourcc(*codec)\n",
    "out = cv2.VideoWriter(output_video_path, fourcc, fps, (width, height))\n",
    "\n",
    "# Check if VideoWriter opened successfully\n",
    "if not out.isOpened():\n",
    "    print(f\"Error: Could not open video writer with codec '{codec}'.\")\n",
    "    cap.release()\n",
    "    exit()\n",
    "\n",
    "frame_count = 0\n",
    "\n",
    "while cap.isOpened():\n",
    "    ret, frame = cap.read()\n",
    "    if not ret:\n",
    "        break\n",
    "    \n",
    "    # Convert the frame to RGB\n",
    "    rgb_frame = cv2.cvtColor(frame, cv2.COLOR_BGR2RGB)\n",
    "    \n",
    "    # Process the frame and get the pose landmarks\n",
    "    result = pose.process(rgb_frame)\n",
    "    \n",
    "    # Draw the landmarks on the frame\n",
    "    if result.pose_landmarks:\n",
    "        mp_drawing.draw_landmarks(frame, result.pose_landmarks, mp_pose.POSE_CONNECTIONS)\n",
    "    \n",
    "    # Write the frame with landmarks to the output video\n",
    "    out.write(frame)\n",
    "\n",
    "    frame_count += 1\n",
    "    if frame_count % 100 == 0:\n",
    "        print(f\"Processed {frame_count} frames.\")\n",
    "\n",
    "cap.release()\n",
    "out.release()\n",
    "cv2.destroyAllWindows()\n",
    "\n",
    "# Check if the output file was created\n",
    "if os.path.isfile(output_video_path):\n",
    "    print(f\"Processing complete. Video saved as '{output_video_path}'\")\n",
    "else:\n",
    "    print(f\"Error: Output video file '{output_video_path}' not found.\")\n"
   ]
  }
 ],
 "metadata": {
  "kernelspec": {
   "display_name": "Python 3 (ipykernel)",
   "language": "python",
   "name": "python3"
  },
  "language_info": {
   "codemirror_mode": {
    "name": "ipython",
    "version": 3
   },
   "file_extension": ".py",
   "mimetype": "text/x-python",
   "name": "python",
   "nbconvert_exporter": "python",
   "pygments_lexer": "ipython3",
   "version": "3.11.7"
  }
 },
 "nbformat": 4,
 "nbformat_minor": 5
}
